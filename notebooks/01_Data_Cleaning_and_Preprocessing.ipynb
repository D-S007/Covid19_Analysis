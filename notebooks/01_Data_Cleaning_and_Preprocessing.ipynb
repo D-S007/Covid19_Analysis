{
 "cells": [
  {
   "cell_type": "markdown",
   "id": "af2ff0a0",
   "metadata": {},
   "source": [
    "# Purpose:\n",
    "Load the raw data, clean it, and save the processed version for analysis."
   ]
  },
  {
   "cell_type": "markdown",
   "id": "ead412f6",
   "metadata": {},
   "source": [
    "## 1. Import Libraries"
   ]
  },
  {
   "cell_type": "code",
   "execution_count": null,
   "id": "cd00c52f",
   "metadata": {},
   "outputs": [],
   "source": [
    "import pandas as pd\n",
    "import numpy as np\n",
    "from pandas.io.parquet import to_parquet"
   ]
  },
  {
   "cell_type": "markdown",
   "id": "2b327b86",
   "metadata": {},
   "source": [
    "## 2. Configuration"
   ]
  },
  {
   "cell_type": "code",
   "execution_count": null,
   "id": "d493435f",
   "metadata": {},
   "outputs": [],
   "source": [
    "# Set file paths for easy management\n",
    "RAW_DATA_PATH = '../data/raw_data/OxCGRT_National_Subnational.csv'\n",
    "PROCESSED_DATA_PATH = '../data/processed_data/cleaned_data.parquet'"
   ]
  },
  {
   "cell_type": "markdown",
   "id": "a80673fc",
   "metadata": {},
   "source": [
    "## 3. Load Data "
   ]
  },
  {
   "cell_type": "code",
   "execution_count": 4,
   "id": "d42092d9",
   "metadata": {},
   "outputs": [
    {
     "name": "stdout",
     "output_type": "stream",
     "text": [
      "Loading raw data...\n",
      "Data loaded successfully.\n",
      "Initial shape: (239661, 58)\n"
     ]
    }
   ],
   "source": [
    "print(\"Loading raw data...\")\n",
    "\n",
    "# Using low_memory=False can help with mixed data types on import\n",
    "df = pd.read_csv(RAW_DATA_PATH, low_memory=False)\n",
    "print(\"Data loaded successfully.\")\n",
    "print(f\"Initial shape: {df.shape}\")"
   ]
  },
  {
   "cell_type": "markdown",
   "id": "bba6f7de",
   "metadata": {},
   "source": [
    "## 4. Data Cleaning & Preprocessing "
   ]
  },
  {
   "cell_type": "code",
   "execution_count": 5,
   "id": "f7a88c23",
   "metadata": {},
   "outputs": [
    {
     "name": "stdout",
     "output_type": "stream",
     "text": [
      "\n",
      "Processing 'Date' column...\n"
     ]
    }
   ],
   "source": [
    "# Convert 'Date' to datetime objects for time-series analysis\n",
    "print(\"\\nProcessing 'Date' column...\")\n",
    "df['Date'] = pd.to_datetime(df['Date'], format='%Y%m%d')"
   ]
  },
  {
   "cell_type": "code",
   "execution_count": 6,
   "id": "13338e07",
   "metadata": {},
   "outputs": [
    {
     "name": "stdout",
     "output_type": "stream",
     "text": [
      "Handling missing values...\n",
      "Dropped columns with >75% missing values: ['CityName', 'CityCode', 'E3_Fiscal.measures', 'E4_International.support', 'H4_Emergency.investment.in.healthcare']\n"
     ]
    }
   ],
   "source": [
    "# Handle columns with a high percentage of missing values\n",
    "print(\"Handling missing values...\")\n",
    "missing_percentage = df.isnull().sum() / len(df) * 100\n",
    "cols_to_drop = missing_percentage[missing_percentage > 75].index\n",
    "df.drop(columns=cols_to_drop, inplace=True)\n",
    "print(f\"Dropped columns with >75% missing values: {list(cols_to_drop)}\")"
   ]
  },
  {
   "cell_type": "code",
   "execution_count": 7,
   "id": "d60f273b",
   "metadata": {},
   "outputs": [
    {
     "name": "stdout",
     "output_type": "stream",
     "text": [
      "Forward-filled 'ConfirmedCases' and 'ConfirmedDeaths'.\n"
     ]
    },
    {
     "name": "stderr",
     "output_type": "stream",
     "text": [
      "/tmp/ipykernel_27846/4226376930.py:3: FutureWarning: A value is trying to be set on a copy of a DataFrame or Series through chained assignment using an inplace method.\n",
      "The behavior will change in pandas 3.0. This inplace method will never work because the intermediate object on which we are setting values always behaves as a copy.\n",
      "\n",
      "For example, when doing 'df[col].method(value, inplace=True)', try using 'df.method({col: value}, inplace=True)' or df[col] = df[col].method(value) instead, to perform the operation inplace on the original object.\n",
      "\n",
      "\n",
      "  df['ConfirmedCases'].fillna(method='ffill', inplace=True)\n",
      "/tmp/ipykernel_27846/4226376930.py:3: FutureWarning: Series.fillna with 'method' is deprecated and will raise in a future version. Use obj.ffill() or obj.bfill() instead.\n",
      "  df['ConfirmedCases'].fillna(method='ffill', inplace=True)\n",
      "/tmp/ipykernel_27846/4226376930.py:4: FutureWarning: A value is trying to be set on a copy of a DataFrame or Series through chained assignment using an inplace method.\n",
      "The behavior will change in pandas 3.0. This inplace method will never work because the intermediate object on which we are setting values always behaves as a copy.\n",
      "\n",
      "For example, when doing 'df[col].method(value, inplace=True)', try using 'df.method({col: value}, inplace=True)' or df[col] = df[col].method(value) instead, to perform the operation inplace on the original object.\n",
      "\n",
      "\n",
      "  df['ConfirmedDeaths'].fillna(method='ffill', inplace=True)\n",
      "/tmp/ipykernel_27846/4226376930.py:4: FutureWarning: Series.fillna with 'method' is deprecated and will raise in a future version. Use obj.ffill() or obj.bfill() instead.\n",
      "  df['ConfirmedDeaths'].fillna(method='ffill', inplace=True)\n"
     ]
    }
   ],
   "source": [
    "# Impute missing values for key time-series data (ConfirmedCases, ConfirmedDeaths)\n",
    "# Forward-fill is appropriate for cumulative data\n",
    "df['ConfirmedCases'].fillna(method='ffill', inplace=True)\n",
    "df['ConfirmedDeaths'].fillna(method='ffill', inplace=True)\n",
    "print(\"Forward-filled 'ConfirmedCases' and 'ConfirmedDeaths'.\")"
   ]
  },
  {
   "cell_type": "code",
   "execution_count": 8,
   "id": "33767ad0",
   "metadata": {},
   "outputs": [],
   "source": [
    "# Impute categorical '_Flag' columns with the mode\n",
    "for col in df.select_dtypes(include='object').columns:\n",
    "    if '_Flag' in col:\n",
    "        mode_val = df[col].mode()[0]\n",
    "        df[col].fillna(mode_val, inplace=True)\n",
    "        print(f\"Imputed '{col}' with mode.\")"
   ]
  },
  {
   "cell_type": "code",
   "execution_count": 9,
   "id": "24cd9350",
   "metadata": {},
   "outputs": [
    {
     "name": "stdout",
     "output_type": "stream",
     "text": [
      "Filled remaining numeric NaNs with 0.\n"
     ]
    }
   ],
   "source": [
    "# Fill remaining numeric NaNs with 0, assuming they represent an absence of the measure\n",
    "numeric_cols = df.select_dtypes(include=np.number).columns\n",
    "df[numeric_cols] = df[numeric_cols].fillna(0)\n",
    "print(\"Filled remaining numeric NaNs with 0.\")"
   ]
  },
  {
   "cell_type": "markdown",
   "id": "64c2760c",
   "metadata": {},
   "source": [
    "## 5. Final Data Review"
   ]
  },
  {
   "cell_type": "code",
   "execution_count": 10,
   "id": "97339e34",
   "metadata": {},
   "outputs": [
    {
     "name": "stdout",
     "output_type": "stream",
     "text": [
      "\n",
      "Final data overview:\n",
      "<class 'pandas.core.frame.DataFrame'>\n",
      "RangeIndex: 239661 entries, 0 to 239660\n",
      "Data columns (total 53 columns):\n",
      " #   Column                                                                           Non-Null Count   Dtype         \n",
      "---  ------                                                                           --------------   -----         \n",
      " 0   CountryName                                                                      239661 non-null  object        \n",
      " 1   CountryCode                                                                      239661 non-null  object        \n",
      " 2   RegionName                                                                       231989 non-null  object        \n",
      " 3   RegionCode                                                                       231989 non-null  object        \n",
      " 4   Jurisdiction                                                                     239661 non-null  object        \n",
      " 5   Date                                                                             239661 non-null  datetime64[ns]\n",
      " 6   C1M_School.closing                                                               239661 non-null  int64         \n",
      " 7   C1M_Flag                                                                         239661 non-null  float64       \n",
      " 8   C2M_Workplace.closing                                                            239661 non-null  int64         \n",
      " 9   C2M_Flag                                                                         239661 non-null  float64       \n",
      " 10  C3M_Cancel.public.events                                                         239661 non-null  int64         \n",
      " 11  C3M_Flag                                                                         239661 non-null  float64       \n",
      " 12  C4M_Restrictions.on.gatherings                                                   239661 non-null  int64         \n",
      " 13  C4M_Flag                                                                         239661 non-null  float64       \n",
      " 14  C5M_Close.public.transport                                                       239661 non-null  int64         \n",
      " 15  C5M_Flag                                                                         239661 non-null  float64       \n",
      " 16  C6M_Stay.at.home.requirements                                                    239661 non-null  int64         \n",
      " 17  C6M_Flag                                                                         239661 non-null  float64       \n",
      " 18  C7M_Restrictions.on.internal.movement                                            239661 non-null  int64         \n",
      " 19  C7M_Flag                                                                         239661 non-null  float64       \n",
      " 20  C8EV_International.travel.controls                                               239661 non-null  int64         \n",
      " 21  E1_Income.support                                                                239661 non-null  int64         \n",
      " 22  E1_Flag                                                                          239661 non-null  float64       \n",
      " 23  E2_Debt.contract.relief                                                          239661 non-null  int64         \n",
      " 24  H1_Public.information.campaigns                                                  239661 non-null  int64         \n",
      " 25  H1_Flag                                                                          239661 non-null  float64       \n",
      " 26  H2_Testing.policy                                                                239661 non-null  int64         \n",
      " 27  H3_Contact.tracing                                                               239661 non-null  int64         \n",
      " 28  H5_Investment.in.vaccines                                                        239661 non-null  float64       \n",
      " 29  H6M_Facial.Coverings                                                             239661 non-null  int64         \n",
      " 30  H6M_Flag                                                                         239661 non-null  float64       \n",
      " 31  H7_Vaccination.policy                                                            239661 non-null  int64         \n",
      " 32  H7_Flag                                                                          239661 non-null  float64       \n",
      " 33  H8M_Protection.of.elderly.people                                                 239661 non-null  int64         \n",
      " 34  H8M_Flag                                                                         239661 non-null  float64       \n",
      " 35  V1_Vaccine.Prioritisation..summary.                                              239661 non-null  int64         \n",
      " 36  V2A_Vaccine.Availability..summary.                                               239661 non-null  int64         \n",
      " 37  V2B_Vaccine.age.eligibility.availability.age.floor..general.population.summary.  139332 non-null  object        \n",
      " 38  V2C_Vaccine.age.eligibility.availability.age.floor..at.risk.summary.             139589 non-null  object        \n",
      " 39  V2D_Medically..clinically.vulnerable..Non.elderly.                               239661 non-null  float64       \n",
      " 40  V2E_Education                                                                    239661 non-null  float64       \n",
      " 41  V2F_Frontline.workers...non.healthcare.                                          239661 non-null  float64       \n",
      " 42  V2G_Frontline.workers...healthcare.                                              239661 non-null  float64       \n",
      " 43  V3_Vaccine.Financial.Support..summary.                                           239661 non-null  int64         \n",
      " 44  V4_Mandatory.Vaccination..summary.                                               239661 non-null  float64       \n",
      " 45  ConfirmedCases                                                                   239661 non-null  float64       \n",
      " 46  ConfirmedDeaths                                                                  239661 non-null  float64       \n",
      " 47  MajorityVaccinated                                                               239661 non-null  object        \n",
      " 48  PopulationVaccinated                                                             239661 non-null  object        \n",
      " 49  StringencyIndex_Average                                                          239661 non-null  float64       \n",
      " 50  GovernmentResponseIndex_Average                                                  239661 non-null  float64       \n",
      " 51  ContainmentHealthIndex_Average                                                   239661 non-null  float64       \n",
      " 52  EconomicSupportIndex                                                             239661 non-null  float64       \n",
      "dtypes: datetime64[ns](1), float64(24), int64(19), object(9)\n",
      "memory usage: 96.9+ MB\n",
      "None\n",
      "\n",
      "Checking for any remaining nulls:\n",
      "215745\n"
     ]
    }
   ],
   "source": [
    "print(\"\\nFinal data overview:\")\n",
    "print(df.info())\n",
    "print(\"\\nChecking for any remaining nulls:\")\n",
    "print(df.isnull().sum().sum())"
   ]
  },
  {
   "cell_type": "markdown",
   "id": "973c3f0d",
   "metadata": {},
   "source": [
    "## 6. Save Processed Data"
   ]
  },
  {
   "cell_type": "code",
   "execution_count": 11,
   "id": "0f646ee1",
   "metadata": {},
   "outputs": [
    {
     "name": "stdout",
     "output_type": "stream",
     "text": [
      "\n",
      "Saving cleaned data to ../data/processed_data/cleaned_data.parquet...\n",
      "Cleaned data saved successfully as a Parquet file.\n"
     ]
    }
   ],
   "source": [
    "print(f\"\\nSaving cleaned data to {PROCESSED_DATA_PATH}...\")\n",
    "df.to_parquet(PROCESSED_DATA_PATH)\n",
    "print(\"Cleaned data saved successfully as a Parquet file.\")\n"
   ]
  }
 ],
 "metadata": {
  "kernelspec": {
   "display_name": "venv",
   "language": "python",
   "name": "python3"
  },
  "language_info": {
   "codemirror_mode": {
    "name": "ipython",
    "version": 3
   },
   "file_extension": ".py",
   "mimetype": "text/x-python",
   "name": "python",
   "nbconvert_exporter": "python",
   "pygments_lexer": "ipython3",
   "version": "3.11.2"
  }
 },
 "nbformat": 4,
 "nbformat_minor": 5
}
