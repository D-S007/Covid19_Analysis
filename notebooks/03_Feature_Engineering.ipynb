{
 "cells": [
  {
   "cell_type": "markdown",
   "id": "6a35f809",
   "metadata": {},
   "source": [
    "# Purpose: \n",
    "Create new features from the cleaned data to improve model performance.\n"
   ]
  },
  {
   "cell_type": "markdown",
   "id": "badd6e7e",
   "metadata": {},
   "source": [
    "## 1. Import Libraries"
   ]
  },
  {
   "cell_type": "code",
   "execution_count": 1,
   "id": "9146eab9",
   "metadata": {},
   "outputs": [],
   "source": [
    "import pandas as pd\n",
    "import numpy as np"
   ]
  },
  {
   "cell_type": "markdown",
   "id": "798b3dc9",
   "metadata": {},
   "source": [
    "## 2. Configuration"
   ]
  },
  {
   "cell_type": "code",
   "execution_count": 2,
   "id": "203be587",
   "metadata": {},
   "outputs": [],
   "source": [
    "PROCESSED_DATA_PATH = '../data/processed_data/cleaned_data.parquet'\n",
    "FEATURE_DATA_PATH = '../data/processed_data/engineered_features.parquet'"
   ]
  },
  {
   "cell_type": "markdown",
   "id": "c433a865",
   "metadata": {},
   "source": [
    "## 3. Load Cleaned Data"
   ]
  },
  {
   "cell_type": "code",
   "execution_count": 3,
   "id": "0eebfdc6",
   "metadata": {},
   "outputs": [
    {
     "name": "stdout",
     "output_type": "stream",
     "text": [
      "Loading cleaned data...\n",
      "Data loaded successfully.\n"
     ]
    }
   ],
   "source": [
    "print(\"Loading cleaned data...\")\n",
    "df = pd.read_parquet(PROCESSED_DATA_PATH)\n",
    "df = df[df['Jurisdiction'] == 'NAT_TOTAL'].copy() # Focus on national data for modeling\n",
    "print(\"Data loaded successfully.\")"
   ]
  },
  {
   "cell_type": "markdown",
   "id": "917851f0",
   "metadata": {},
   "source": [
    "## 4. Create Time-Based Features"
   ]
  },
  {
   "cell_type": "code",
   "execution_count": 4,
   "id": "c04c2c10",
   "metadata": {},
   "outputs": [
    {
     "name": "stdout",
     "output_type": "stream",
     "text": [
      "\n",
      "Engineering time-based features...\n"
     ]
    }
   ],
   "source": [
    "print(\"\\nEngineering time-based features...\")"
   ]
  },
  {
   "cell_type": "code",
   "execution_count": 5,
   "id": "3a2bcff8",
   "metadata": {},
   "outputs": [],
   "source": [
    "# Sort data by country and date to ensure correct calculations\n",
    "df.sort_values(['CountryName', 'Date'], inplace=True)"
   ]
  },
  {
   "cell_type": "code",
   "execution_count": 6,
   "id": "9dc04aed",
   "metadata": {},
   "outputs": [],
   "source": [
    "# Create lag features (e.g., cases 7 days ago)\n",
    "df['cases_lag_7'] = df.groupby('CountryName')['ConfirmedCases'].shift(7)\n",
    "df['deaths_lag_7'] = df.groupby('CountryName')['ConfirmedDeaths'].shift(7)"
   ]
  },
  {
   "cell_type": "code",
   "execution_count": 7,
   "id": "68b39dd5",
   "metadata": {},
   "outputs": [],
   "source": [
    "# Create rolling averages to smooth out daily noise\n",
    "df['cases_rolling_7'] = df.groupby('CountryName')['ConfirmedCases'].rolling(window=7).mean().reset_index(0,drop=True)\n",
    "df['deaths_rolling_7'] = df.groupby('CountryName')['ConfirmedDeaths'].rolling(window=7).mean().reset_index(0,drop=True)"
   ]
  },
  {
   "cell_type": "code",
   "execution_count": 9,
   "id": "5b8f503f",
   "metadata": {},
   "outputs": [
    {
     "name": "stdout",
     "output_type": "stream",
     "text": [
      "Time-based features created: lags, rolling averages, growth rate.\n"
     ]
    }
   ],
   "source": [
    "# Create growth rate feature\n",
    "# Using a small number to avoid division by zero\n",
    "daily_cases = df.groupby('CountryName')['ConfirmedCases'].diff().fillna(0)\n",
    "df['case_growth_rate'] = (daily_cases / (df['cases_lag_7'] + 1e-5)) * 100\n",
    "\n",
    "print(\"Time-based features created: lags, rolling averages, growth rate.\")"
   ]
  },
  {
   "cell_type": "markdown",
   "id": "3e5a5b55",
   "metadata": {},
   "source": [
    "## 5. Handle Skewed Data & Final Cleanup"
   ]
  },
  {
   "cell_type": "code",
   "execution_count": 10,
   "id": "7d816cf7",
   "metadata": {},
   "outputs": [
    {
     "name": "stdout",
     "output_type": "stream",
     "text": [
      "\n",
      "Applying transformations and cleaning up...\n"
     ]
    }
   ],
   "source": [
    "print(\"\\nApplying transformations and cleaning up...\")"
   ]
  },
  {
   "cell_type": "code",
   "execution_count": 11,
   "id": "8b2b5dcc",
   "metadata": {},
   "outputs": [],
   "source": [
    "# Apply log transform to highly skewed variables to help linear models\n",
    "# We add 1 to avoid log(0)\n",
    "skewed_cols = ['ConfirmedCases', 'ConfirmedDeaths']\n",
    "for col in skewed_cols:\n",
    "    df[f'{col}_log'] = np.log1p(df[col])"
   ]
  },
  {
   "cell_type": "code",
   "execution_count": 12,
   "id": "c1acd527",
   "metadata": {},
   "outputs": [
    {
     "name": "stdout",
     "output_type": "stream",
     "text": [
      "Applied log transformations and removed NaNs from feature creation.\n"
     ]
    }
   ],
   "source": [
    "# Drop rows with NaNs created by lags/rolling windows\n",
    "df.dropna(inplace=True)\n",
    "\n",
    "print(\"Applied log transformations and removed NaNs from feature creation.\")"
   ]
  },
  {
   "cell_type": "markdown",
   "id": "064df79d",
   "metadata": {},
   "source": [
    "## 6. Final Feature Selection"
   ]
  },
  {
   "cell_type": "code",
   "execution_count": 13,
   "id": "fc1ead9f",
   "metadata": {},
   "outputs": [
    {
     "name": "stdout",
     "output_type": "stream",
     "text": [
      "\n",
      "Final feature set overview:\n",
      "<class 'pandas.core.frame.DataFrame'>\n",
      "Index: 0 entries\n",
      "Data columns (total 60 columns):\n",
      " #   Column                                                                           Non-Null Count  Dtype         \n",
      "---  ------                                                                           --------------  -----         \n",
      " 0   CountryName                                                                      0 non-null      object        \n",
      " 1   CountryCode                                                                      0 non-null      object        \n",
      " 2   RegionName                                                                       0 non-null      object        \n",
      " 3   RegionCode                                                                       0 non-null      object        \n",
      " 4   Jurisdiction                                                                     0 non-null      object        \n",
      " 5   Date                                                                             0 non-null      datetime64[ns]\n",
      " 6   C1M_School.closing                                                               0 non-null      int64         \n",
      " 7   C1M_Flag                                                                         0 non-null      float64       \n",
      " 8   C2M_Workplace.closing                                                            0 non-null      int64         \n",
      " 9   C2M_Flag                                                                         0 non-null      float64       \n",
      " 10  C3M_Cancel.public.events                                                         0 non-null      int64         \n",
      " 11  C3M_Flag                                                                         0 non-null      float64       \n",
      " 12  C4M_Restrictions.on.gatherings                                                   0 non-null      int64         \n",
      " 13  C4M_Flag                                                                         0 non-null      float64       \n",
      " 14  C5M_Close.public.transport                                                       0 non-null      int64         \n",
      " 15  C5M_Flag                                                                         0 non-null      float64       \n",
      " 16  C6M_Stay.at.home.requirements                                                    0 non-null      int64         \n",
      " 17  C6M_Flag                                                                         0 non-null      float64       \n",
      " 18  C7M_Restrictions.on.internal.movement                                            0 non-null      int64         \n",
      " 19  C7M_Flag                                                                         0 non-null      float64       \n",
      " 20  C8EV_International.travel.controls                                               0 non-null      int64         \n",
      " 21  E1_Income.support                                                                0 non-null      int64         \n",
      " 22  E1_Flag                                                                          0 non-null      float64       \n",
      " 23  E2_Debt.contract.relief                                                          0 non-null      int64         \n",
      " 24  H1_Public.information.campaigns                                                  0 non-null      int64         \n",
      " 25  H1_Flag                                                                          0 non-null      float64       \n",
      " 26  H2_Testing.policy                                                                0 non-null      int64         \n",
      " 27  H3_Contact.tracing                                                               0 non-null      int64         \n",
      " 28  H5_Investment.in.vaccines                                                        0 non-null      float64       \n",
      " 29  H6M_Facial.Coverings                                                             0 non-null      int64         \n",
      " 30  H6M_Flag                                                                         0 non-null      float64       \n",
      " 31  H7_Vaccination.policy                                                            0 non-null      int64         \n",
      " 32  H7_Flag                                                                          0 non-null      float64       \n",
      " 33  H8M_Protection.of.elderly.people                                                 0 non-null      int64         \n",
      " 34  H8M_Flag                                                                         0 non-null      float64       \n",
      " 35  V1_Vaccine.Prioritisation..summary.                                              0 non-null      int64         \n",
      " 36  V2A_Vaccine.Availability..summary.                                               0 non-null      int64         \n",
      " 37  V2B_Vaccine.age.eligibility.availability.age.floor..general.population.summary.  0 non-null      object        \n",
      " 38  V2C_Vaccine.age.eligibility.availability.age.floor..at.risk.summary.             0 non-null      object        \n",
      " 39  V2D_Medically..clinically.vulnerable..Non.elderly.                               0 non-null      float64       \n",
      " 40  V2E_Education                                                                    0 non-null      float64       \n",
      " 41  V2F_Frontline.workers...non.healthcare.                                          0 non-null      float64       \n",
      " 42  V2G_Frontline.workers...healthcare.                                              0 non-null      float64       \n",
      " 43  V3_Vaccine.Financial.Support..summary.                                           0 non-null      int64         \n",
      " 44  V4_Mandatory.Vaccination..summary.                                               0 non-null      float64       \n",
      " 45  ConfirmedCases                                                                   0 non-null      float64       \n",
      " 46  ConfirmedDeaths                                                                  0 non-null      float64       \n",
      " 47  MajorityVaccinated                                                               0 non-null      object        \n",
      " 48  PopulationVaccinated                                                             0 non-null      object        \n",
      " 49  StringencyIndex_Average                                                          0 non-null      float64       \n",
      " 50  GovernmentResponseIndex_Average                                                  0 non-null      float64       \n",
      " 51  ContainmentHealthIndex_Average                                                   0 non-null      float64       \n",
      " 52  EconomicSupportIndex                                                             0 non-null      float64       \n",
      " 53  cases_lag_7                                                                      0 non-null      float64       \n",
      " 54  deaths_lag_7                                                                     0 non-null      float64       \n",
      " 55  cases_rolling_7                                                                  0 non-null      float64       \n",
      " 56  deaths_rolling_7                                                                 0 non-null      float64       \n",
      " 57  case_growth_rate                                                                 0 non-null      float64       \n",
      " 58  ConfirmedCases_log                                                               0 non-null      float64       \n",
      " 59  ConfirmedDeaths_log                                                              0 non-null      float64       \n",
      "dtypes: datetime64[ns](1), float64(31), int64(19), object(9)\n",
      "memory usage: 0.0+ bytes\n",
      "None\n"
     ]
    }
   ],
   "source": [
    "# You can select the final set of columns for your model\n",
    "# For now, we will keep all engineered features\n",
    "print(\"\\nFinal feature set overview:\")\n",
    "print(df.info())"
   ]
  },
  {
   "cell_type": "markdown",
   "id": "9fa6e6ee",
   "metadata": {},
   "source": [
    "## 7. Save Feature-Engineered Data "
   ]
  },
  {
   "cell_type": "code",
   "execution_count": 14,
   "id": "fefa39f9",
   "metadata": {},
   "outputs": [
    {
     "name": "stdout",
     "output_type": "stream",
     "text": [
      "\n",
      "Saving feature-engineered data to ../data/processed_data/engineered_features.parquet...\n",
      "Feature data saved successfully.\n"
     ]
    }
   ],
   "source": [
    "print(f\"\\nSaving feature-engineered data to {FEATURE_DATA_PATH}...\")\n",
    "df.to_parquet(FEATURE_DATA_PATH)\n",
    "print(\"Feature data saved successfully.\")"
   ]
  }
 ],
 "metadata": {
  "kernelspec": {
   "display_name": "venv",
   "language": "python",
   "name": "python3"
  },
  "language_info": {
   "codemirror_mode": {
    "name": "ipython",
    "version": 3
   },
   "file_extension": ".py",
   "mimetype": "text/x-python",
   "name": "python",
   "nbconvert_exporter": "python",
   "pygments_lexer": "ipython3",
   "version": "3.11.2"
  }
 },
 "nbformat": 4,
 "nbformat_minor": 5
}
